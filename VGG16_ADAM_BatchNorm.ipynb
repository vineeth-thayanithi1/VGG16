{
  "nbformat": 4,
  "nbformat_minor": 0,
  "metadata": {
    "colab": {
      "name": "VGG16_ADAM_BatchNorm.ipynb",
      "provenance": []
    },
    "kernelspec": {
      "name": "python3",
      "display_name": "Python 3"
    },
    "accelerator": "GPU"
  },
  "cells": [
    {
      "cell_type": "code",
      "metadata": {
        "id": "PtV-QPR565rQ",
        "outputId": "f8d9eb85-3fd9-4116-e42f-758eb4861275",
        "colab": {
          "base_uri": "https://localhost:8080/",
          "height": 1000
        }
      },
      "source": [
        "import tensorflow as tf\n",
        "from keras.datasets import cifar100\n",
        "import numpy as np\n",
        "from keras.layers import Conv2D,MaxPooling2D,Dense,Flatten, BatchNormalization,Dropout\n",
        "from keras.models import Sequential\n",
        "from keras.utils import to_categorical\n",
        "from keras.optimizers import SGD\n",
        "from keras.metrics import Precision,Recall\n",
        "from keras.callbacks import EarlyStopping, ModelCheckpoint\n",
        "from keras import regularizers\n",
        "from keras.layers import Dense, Dropout, Activation, Flatten\n",
        "from keras import optimizers\n",
        "\n",
        "(x_train,y_train),(x_test,y_test)=cifar100.load_data()\n",
        "\n",
        "\n",
        "es= EarlyStopping(monitor='val_loss', patience=4)\n",
        "mc= ModelCheckpoint(filepath='VGG16_ADAM_BatchNorm.h5', monitor='val_loss', save_best_only=True)\n",
        "\n",
        "y_train=to_categorical(y_train)\n",
        "y_test=to_categorical(y_test)\n",
        "\n",
        "mean = x_train.mean()\n",
        "std= x_train.std()\n",
        "x_train=(x_train-mean)/std\n",
        "\n",
        "mean = x_test.mean()\n",
        "std= x_test.std()\n",
        "x_test=(x_test-mean)/std\n",
        "\n",
        "model = Sequential()\n",
        "x_shape=[32,32,3]\n",
        "\n",
        "model.add(Conv2D(64, (3, 3), padding='same',input_shape=x_shape))\n",
        "model.add(Activation('relu'))\n",
        "model.add(BatchNormalization())\n",
        "\n",
        "model.add(Conv2D(64, (3, 3), padding='same'))\n",
        "model.add(Activation('relu'))\n",
        "model.add(BatchNormalization())\n",
        "\n",
        "model.add(MaxPooling2D(pool_size=(2, 2)))\n",
        "\n",
        "model.add(Conv2D(128, (3, 3), padding='same'))\n",
        "model.add(Activation('relu'))\n",
        "model.add(BatchNormalization())\n",
        "\n",
        "model.add(Conv2D(128, (3, 3), padding='same'))\n",
        "model.add(Activation('relu'))\n",
        "model.add(BatchNormalization())\n",
        "\n",
        "model.add(MaxPooling2D(pool_size=(2, 2)))\n",
        "\n",
        "model.add(Conv2D(256, (3, 3), padding='same'))\n",
        "model.add(Activation('relu'))\n",
        "model.add(BatchNormalization())\n",
        "\n",
        "model.add(Conv2D(256, (3, 3), padding='same'))\n",
        "model.add(Activation('relu'))\n",
        "model.add(BatchNormalization())\n",
        "\n",
        "model.add(Conv2D(256, (3, 3), padding='same'))\n",
        "model.add(Activation('relu'))\n",
        "model.add(BatchNormalization())\n",
        "\n",
        "model.add(MaxPooling2D(pool_size=(2, 2)))\n",
        "\n",
        "\n",
        "model.add(Conv2D(512, (3, 3), padding='same'))\n",
        "model.add(Activation('relu'))\n",
        "model.add(BatchNormalization())\n",
        "\n",
        "model.add(Conv2D(512, (3, 3), padding='same'))\n",
        "model.add(Activation('relu'))\n",
        "model.add(BatchNormalization())\n",
        "\n",
        "\n",
        "model.add(Conv2D(512, (3, 3), padding='same'))\n",
        "model.add(Activation('relu'))\n",
        "model.add(BatchNormalization())\n",
        "\n",
        "model.add(MaxPooling2D(pool_size=(2, 2)))\n",
        "\n",
        "\n",
        "model.add(Conv2D(512, (3, 3), padding='same'))\n",
        "model.add(Activation('relu'))\n",
        "model.add(BatchNormalization())\n",
        "\n",
        "\n",
        "model.add(Conv2D(512, (3, 3), padding='same'))\n",
        "model.add(Activation('relu'))\n",
        "model.add(BatchNormalization())\n",
        "\n",
        "\n",
        "model.add(Conv2D(512, (3, 3), padding='same'))\n",
        "model.add(Activation('relu'))\n",
        "model.add(BatchNormalization())\n",
        "\n",
        "model.add(MaxPooling2D(pool_size=(2, 2)))\n",
        "\n",
        "\n",
        "model.add(Flatten())\n",
        "model.add(Dense(512))\n",
        "model.add(Activation('relu'))\n",
        "model.add(BatchNormalization())\n",
        "\n",
        "model.add(Dense(100))\n",
        "model.add(Activation('softmax'))\n",
        "\n",
        "\n",
        "model.compile(optimizer='adam',loss='categorical_crossentropy', metrics=['accuracy',Precision(),Recall()])\n",
        "history=model.fit(x=x_train,y=y_train,epochs=100, validation_data=(x_test,y_test), callbacks=[es,mc])\n",
        "\n",
        "from matplotlib import pyplot as plt\n",
        "plt.plot(history.history['accuracy'])\n",
        "plt.plot(history.history['val_accuracy'])\n",
        "plt.title('model accuracy')\n",
        "plt.ylabel('accuracy')\n",
        "plt.xlabel('epoch')\n",
        "plt.legend(['train', 'validation'], loc='upper left')\n",
        "plt.show()\n",
        "# \"Loss\"\n",
        "plt.plot(history.history['loss'])\n",
        "plt.plot(history.history['val_loss'])\n",
        "plt.title('model loss')\n",
        "plt.ylabel('loss')\n",
        "plt.xlabel('epoch')\n",
        "plt.legend(['train', 'validation'], loc='upper left')\n",
        "plt.show()"
      ],
      "execution_count": 1,
      "outputs": [
        {
          "output_type": "stream",
          "text": [
            "Downloading data from https://www.cs.toronto.edu/~kriz/cifar-100-python.tar.gz\n",
            "169009152/169001437 [==============================] - 4s 0us/step\n",
            "Epoch 1/100\n",
            "1563/1563 [==============================] - 35s 23ms/step - loss: 3.9538 - accuracy: 0.0891 - precision: 0.3235 - recall: 0.0053 - val_loss: 3.9251 - val_accuracy: 0.1167 - val_precision: 0.3072 - val_recall: 0.0278\n",
            "Epoch 2/100\n",
            "1563/1563 [==============================] - 34s 22ms/step - loss: 3.2839 - accuracy: 0.1858 - precision: 0.5312 - recall: 0.0354 - val_loss: 3.1797 - val_accuracy: 0.2106 - val_precision: 0.4473 - val_recall: 0.0828\n",
            "Epoch 3/100\n",
            "1563/1563 [==============================] - 35s 22ms/step - loss: 2.7978 - accuracy: 0.2780 - precision: 0.6212 - recall: 0.1002 - val_loss: 2.8333 - val_accuracy: 0.2949 - val_precision: 0.5779 - val_recall: 0.1491\n",
            "Epoch 4/100\n",
            "1563/1563 [==============================] - 34s 22ms/step - loss: 2.4193 - accuracy: 0.3519 - precision: 0.6711 - recall: 0.1713 - val_loss: 2.4075 - val_accuracy: 0.3714 - val_precision: 0.6316 - val_recall: 0.2066\n",
            "Epoch 5/100\n",
            "1563/1563 [==============================] - 34s 22ms/step - loss: 2.1646 - accuracy: 0.4105 - precision: 0.6987 - recall: 0.2385 - val_loss: 2.1337 - val_accuracy: 0.4268 - val_precision: 0.6872 - val_recall: 0.2858\n",
            "Epoch 6/100\n",
            "1563/1563 [==============================] - 34s 22ms/step - loss: 1.8792 - accuracy: 0.4770 - precision: 0.7351 - recall: 0.3139 - val_loss: 2.0311 - val_accuracy: 0.4564 - val_precision: 0.7021 - val_recall: 0.3238\n",
            "Epoch 7/100\n",
            "1563/1563 [==============================] - 34s 22ms/step - loss: 1.6414 - accuracy: 0.5372 - precision: 0.7617 - recall: 0.3863 - val_loss: 1.9322 - val_accuracy: 0.4923 - val_precision: 0.7063 - val_recall: 0.3799\n",
            "Epoch 8/100\n",
            "1563/1563 [==============================] - 34s 22ms/step - loss: 1.3926 - accuracy: 0.5964 - precision: 0.7854 - recall: 0.4639 - val_loss: 1.9414 - val_accuracy: 0.4968 - val_precision: 0.6935 - val_recall: 0.3983\n",
            "Epoch 9/100\n",
            "1563/1563 [==============================] - 34s 22ms/step - loss: 1.1498 - accuracy: 0.6566 - precision: 0.8054 - recall: 0.5459 - val_loss: 1.9759 - val_accuracy: 0.5087 - val_precision: 0.6738 - val_recall: 0.4255\n",
            "Epoch 10/100\n",
            "1563/1563 [==============================] - 34s 22ms/step - loss: 0.9436 - accuracy: 0.7130 - precision: 0.8265 - recall: 0.6248 - val_loss: 2.0069 - val_accuracy: 0.5174 - val_precision: 0.6660 - val_recall: 0.4465\n",
            "Epoch 11/100\n",
            "1563/1563 [==============================] - 34s 22ms/step - loss: 0.7626 - accuracy: 0.7629 - precision: 0.8483 - recall: 0.6964 - val_loss: 2.2677 - val_accuracy: 0.5098 - val_precision: 0.6197 - val_recall: 0.4569\n"
          ],
          "name": "stdout"
        },
        {
          "output_type": "display_data",
          "data": {
            "image/png": "[encoded data removed]",
            "text/plain": [
              "<Figure size 432x288 with 1 Axes>"
            ]
          },
          "metadata": {
            "tags": [],
            "needs_background": "light"
          }
        },
        {
          "output_type": "display_data",
          "data": {
            "image/png": "[encoded data removed]",
            "text/plain": [
              "<Figure size 432x288 with 1 Axes>"
            ]
          },
          "metadata": {
            "tags": [],
            "needs_background": "light"
          }
        }
      ]
    },
    {
      "cell_type": "code",
      "metadata": {
        "id": "IjXU-nlY8AhT",
        "outputId": "635854a1-3388-4875-fb7c-4d523193c453",
        "colab": {
          "base_uri": "https://localhost:8080/",
          "height": 91
        }
      },
      "source": [
        "import keras \n",
        "\n",
        "(x_train,y_train),(x_test,y_test)=cifar100.load_data()\n",
        "y_test=to_categorical(y_test)\n",
        "\n",
        "mean = x_test.mean()\n",
        "std= x_test.std()\n",
        "x_test=(x_test-mean)/std\n",
        "\n",
        "\n",
        "best_model= keras.models.load_model('VGG16_ADAM_BatchNorm.h5')\n",
        "_, acc,precision,recall = best_model.evaluate(x_test, y_test)\n",
        "\n",
        "print(\"Accuracy: \"+str(acc*100)+\"%\")\n",
        "print(\"Precision: \"+str(precision*100)+\"%\")\n",
        "print(\"Recall: \"+str(recall*100)+\"%\")"
      ],
      "execution_count": 3,
      "outputs": [
        {
          "output_type": "stream",
          "text": [
            "313/313 [==============================] - 3s 8ms/step - loss: 1.9322 - accuracy: 0.4923 - precision: 0.7063 - recall: 0.3799\n",
            "Accuracy: 49.230000376701355%\n",
            "Precision: 70.62650918960571%\n",
            "Recall: 37.99000084400177%\n"
          ],
          "name": "stdout"
        }
      ]
    },
    {
      "cell_type": "code",
      "metadata": {
        "id": "1d8wTpo6B1NB"
      },
      "source": [
        ""
      ],
      "execution_count": null,
      "outputs": []
    }
  ]
}