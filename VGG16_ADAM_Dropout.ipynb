{
  "nbformat": 4,
  "nbformat_minor": 0,
  "metadata": {
    "colab": {
      "name": "VGG16_ADAM_Dropout.ipynb",
      "provenance": []
    },
    "kernelspec": {
      "name": "python3",
      "display_name": "Python 3"
    },
    "accelerator": "GPU"
  },
  "cells": [
    {
      "cell_type": "code",
      "metadata": {
        "id": "PtV-QPR565rQ",
        "outputId": "3aa0695c-ccbb-4c74-a729-2ff9c1134e12",
        "colab": {
          "base_uri": "https://localhost:8080/",
          "height": 1000
        }
      },
      "source": [
        "import tensorflow as tf\n",
        "from keras.datasets import cifar100\n",
        "import numpy as np\n",
        "from keras.layers import Conv2D,MaxPooling2D,Dense,Flatten, BatchNormalization,Dropout\n",
        "from keras.models import Sequential\n",
        "from keras.utils import to_categorical\n",
        "from keras.optimizers import SGD\n",
        "from keras.metrics import Precision,Recall\n",
        "from keras.callbacks import EarlyStopping, ModelCheckpoint\n",
        "from keras import regularizers\n",
        "from keras.layers import Dense, Dropout, Activation, Flatten\n",
        "from keras import optimizers\n",
        "\n",
        "(x_train,y_train),(x_test,y_test)=cifar100.load_data()\n",
        "\n",
        "\n",
        "es= EarlyStopping(monitor='val_loss', patience=4)\n",
        "mc= ModelCheckpoint(filepath='VGG16_ADAM_Dropout.h5', monitor='val_loss', save_best_only=True)\n",
        "\n",
        "y_train=to_categorical(y_train)\n",
        "y_test=to_categorical(y_test)\n",
        "\n",
        "mean = x_train.mean()\n",
        "std= x_train.std()\n",
        "x_train=(x_train-mean)/std\n",
        "\n",
        "mean = x_test.mean()\n",
        "std= x_test.std()\n",
        "x_test=(x_test-mean)/std\n",
        "\n",
        "model = Sequential()\n",
        "x_shape=[32,32,3]\n",
        "\n",
        "model = Sequential()\n",
        "weight_decay = 0.0005\n",
        "x_shape=[32,32,3]\n",
        "\n",
        "model.add(Conv2D(64, (3, 3), padding='same',\n",
        "                         input_shape=x_shape))\n",
        "model.add(Activation('relu'))\n",
        "model.add(BatchNormalization())\n",
        "model.add(Dropout(0.2))\n",
        "\n",
        "model.add(Conv2D(64, (3, 3), padding='same'))\n",
        "model.add(Activation('relu'))\n",
        "model.add(BatchNormalization())\n",
        "\n",
        "model.add(MaxPooling2D(pool_size=(2, 2)))\n",
        "\n",
        "model.add(Conv2D(128, (3, 3), padding='same'))\n",
        "model.add(Activation('relu'))\n",
        "model.add(BatchNormalization())\n",
        "model.add(Dropout(0.3))\n",
        "\n",
        "model.add(Conv2D(128, (3, 3), padding='same'))\n",
        "model.add(Activation('relu'))\n",
        "model.add(BatchNormalization())\n",
        "\n",
        "model.add(MaxPooling2D(pool_size=(2, 2)))\n",
        "\n",
        "model.add(Conv2D(256, (3, 3), padding='same'))\n",
        "model.add(Activation('relu'))\n",
        "model.add(BatchNormalization())\n",
        "model.add(Dropout(0.3))\n",
        "\n",
        "model.add(Conv2D(256, (3, 3), padding='same'))\n",
        "model.add(Activation('relu'))\n",
        "model.add(BatchNormalization())\n",
        "model.add(Dropout(0.2))\n",
        "\n",
        "model.add(Conv2D(256, (3, 3), padding='same'))\n",
        "model.add(Activation('relu'))\n",
        "model.add(BatchNormalization())\n",
        "\n",
        "model.add(MaxPooling2D(pool_size=(2, 2)))\n",
        "\n",
        "\n",
        "model.add(Conv2D(512, (3, 3), padding='same'))\n",
        "model.add(Activation('relu'))\n",
        "model.add(BatchNormalization())\n",
        "model.add(Dropout(0.2))\n",
        "\n",
        "model.add(Conv2D(512, (3, 3), padding='same'))\n",
        "model.add(Activation('relu'))\n",
        "model.add(BatchNormalization())\n",
        "model.add(Dropout(0.2))\n",
        "\n",
        "model.add(Conv2D(512, (3, 3), padding='same'))\n",
        "model.add(Activation('relu'))\n",
        "model.add(BatchNormalization())\n",
        "\n",
        "model.add(MaxPooling2D(pool_size=(2, 2)))\n",
        "\n",
        "\n",
        "model.add(Conv2D(512, (3, 3), padding='same'))\n",
        "model.add(Activation('relu'))\n",
        "model.add(BatchNormalization())\n",
        "model.add(Dropout(0.3))\n",
        "\n",
        "model.add(Conv2D(512, (3, 3), padding='same'))\n",
        "model.add(Activation('relu'))\n",
        "model.add(BatchNormalization())\n",
        "model.add(Dropout(0.3))\n",
        "\n",
        "model.add(Conv2D(512, (3, 3), padding='same'))\n",
        "model.add(Activation('relu'))\n",
        "model.add(BatchNormalization())\n",
        "\n",
        "model.add(MaxPooling2D(pool_size=(2, 2)))\n",
        "model.add(Dropout(0.4))\n",
        "\n",
        "model.add(Flatten())\n",
        "model.add(Dense(512))\n",
        "model.add(Activation('relu'))\n",
        "model.add(BatchNormalization())\n",
        "\n",
        "model.add(Dropout(0.4))\n",
        "model.add(Dense(100))\n",
        "model.add(Activation('softmax'))\n",
        "\n",
        "model.compile(optimizer='adam',loss='categorical_crossentropy', metrics=['accuracy',Precision(),Recall()])\n",
        "history=model.fit(x=x_train,y=y_train,epochs=100, validation_data=(x_test,y_test), callbacks=[es,mc])\n",
        "\n",
        "from matplotlib import pyplot as plt\n",
        "plt.plot(history.history['accuracy'])\n",
        "plt.plot(history.history['val_accuracy'])\n",
        "plt.title('model accuracy')\n",
        "plt.ylabel('accuracy')\n",
        "plt.xlabel('epoch')\n",
        "plt.legend(['train', 'validation'], loc='upper left')\n",
        "plt.show()\n",
        "# \"Loss\"\n",
        "plt.plot(history.history['loss'])\n",
        "plt.plot(history.history['val_loss'])\n",
        "plt.title('model loss')\n",
        "plt.ylabel('loss')\n",
        "plt.xlabel('epoch')\n",
        "plt.legend(['train', 'validation'], loc='upper left')\n",
        "plt.show()"
      ],
      "execution_count": 1,
      "outputs": [
        {
          "output_type": "stream",
          "text": [
            "Downloading data from https://www.cs.toronto.edu/~kriz/cifar-100-python.tar.gz\n",
            "169009152/169001437 [==============================] - 4s 0us/step\n",
            "Epoch 1/100\n",
            "1563/1563 [==============================] - 37s 24ms/step - loss: 4.5693 - accuracy: 0.0351 - precision: 0.0850 - recall: 0.0026 - val_loss: 4.4372 - val_accuracy: 0.0583 - val_precision: 0.1949 - val_recall: 0.0054\n",
            "Epoch 2/100\n",
            "1563/1563 [==============================] - 37s 23ms/step - loss: 4.1363 - accuracy: 0.0631 - precision: 0.1311 - recall: 0.0034 - val_loss: 4.2441 - val_accuracy: 0.0787 - val_precision: 0.2637 - val_recall: 0.0207\n",
            "Epoch 3/100\n",
            "1563/1563 [==============================] - 37s 23ms/step - loss: 3.7199 - accuracy: 0.1113 - precision: 0.3012 - recall: 0.0081 - val_loss: 3.5381 - val_accuracy: 0.1397 - val_precision: 0.4014 - val_recall: 0.0281\n",
            "Epoch 4/100\n",
            "1563/1563 [==============================] - 36s 23ms/step - loss: 3.3005 - accuracy: 0.1755 - precision: 0.4926 - recall: 0.0287 - val_loss: 2.9205 - val_accuracy: 0.2410 - val_precision: 0.5817 - val_recall: 0.0787\n",
            "Epoch 5/100\n",
            "1563/1563 [==============================] - 36s 23ms/step - loss: 2.9496 - accuracy: 0.2371 - precision: 0.6027 - recall: 0.0663 - val_loss: 2.6718 - val_accuracy: 0.2997 - val_precision: 0.6603 - val_recall: 0.1374\n",
            "Epoch 6/100\n",
            "1563/1563 [==============================] - 36s 23ms/step - loss: 2.6846 - accuracy: 0.2889 - precision: 0.6571 - recall: 0.1114 - val_loss: 2.5183 - val_accuracy: 0.3290 - val_precision: 0.6263 - val_recall: 0.1740\n",
            "Epoch 7/100\n",
            "1563/1563 [==============================] - 36s 23ms/step - loss: 2.4647 - accuracy: 0.3379 - precision: 0.6761 - recall: 0.1542 - val_loss: 2.2640 - val_accuracy: 0.3840 - val_precision: 0.6875 - val_recall: 0.2207\n",
            "Epoch 8/100\n",
            "1563/1563 [==============================] - 36s 23ms/step - loss: 2.2668 - accuracy: 0.3866 - precision: 0.7109 - recall: 0.2036 - val_loss: 2.1701 - val_accuracy: 0.4080 - val_precision: 0.6931 - val_recall: 0.2559\n",
            "Epoch 9/100\n",
            "1563/1563 [==============================] - 36s 23ms/step - loss: 2.0990 - accuracy: 0.4256 - precision: 0.7201 - recall: 0.2483 - val_loss: 2.0051 - val_accuracy: 0.4583 - val_precision: 0.7248 - val_recall: 0.3068\n",
            "Epoch 10/100\n",
            "1563/1563 [==============================] - 36s 23ms/step - loss: 1.9385 - accuracy: 0.4649 - precision: 0.7407 - recall: 0.2955 - val_loss: 1.9333 - val_accuracy: 0.4767 - val_precision: 0.7142 - val_recall: 0.3341\n",
            "Epoch 11/100\n",
            "1563/1563 [==============================] - 37s 23ms/step - loss: 1.8030 - accuracy: 0.4980 - precision: 0.7509 - recall: 0.3360 - val_loss: 1.9138 - val_accuracy: 0.4836 - val_precision: 0.7438 - val_recall: 0.3432\n",
            "Epoch 12/100\n",
            "1563/1563 [==============================] - 37s 23ms/step - loss: 1.6722 - accuracy: 0.5313 - precision: 0.7609 - recall: 0.3782 - val_loss: 1.8459 - val_accuracy: 0.5046 - val_precision: 0.7300 - val_recall: 0.3785\n",
            "Epoch 13/100\n",
            "1563/1563 [==============================] - 37s 23ms/step - loss: 1.5590 - accuracy: 0.5600 - precision: 0.7701 - recall: 0.4149 - val_loss: 1.7793 - val_accuracy: 0.5254 - val_precision: 0.7357 - val_recall: 0.4116\n",
            "Epoch 14/100\n",
            "1563/1563 [==============================] - 36s 23ms/step - loss: 1.4470 - accuracy: 0.5889 - precision: 0.7835 - recall: 0.4542 - val_loss: 1.7847 - val_accuracy: 0.5357 - val_precision: 0.7346 - val_recall: 0.4221\n",
            "Epoch 15/100\n",
            "1563/1563 [==============================] - 36s 23ms/step - loss: 1.3537 - accuracy: 0.6141 - precision: 0.7897 - recall: 0.4866 - val_loss: 1.7346 - val_accuracy: 0.5424 - val_precision: 0.7294 - val_recall: 0.4479\n",
            "Epoch 16/100\n",
            "1563/1563 [==============================] - 36s 23ms/step - loss: 1.2622 - accuracy: 0.6355 - precision: 0.7981 - recall: 0.5189 - val_loss: 1.7510 - val_accuracy: 0.5512 - val_precision: 0.7198 - val_recall: 0.4654\n",
            "Epoch 17/100\n",
            "1563/1563 [==============================] - 36s 23ms/step - loss: 1.1764 - accuracy: 0.6580 - precision: 0.8061 - recall: 0.5466 - val_loss: 1.7574 - val_accuracy: 0.5552 - val_precision: 0.7159 - val_recall: 0.4732\n",
            "Epoch 18/100\n",
            "1563/1563 [==============================] - 36s 23ms/step - loss: 1.0895 - accuracy: 0.6810 - precision: 0.8172 - recall: 0.5811 - val_loss: 1.7637 - val_accuracy: 0.5560 - val_precision: 0.7066 - val_recall: 0.4798\n",
            "Epoch 19/100\n",
            "1563/1563 [==============================] - 36s 23ms/step - loss: 1.0129 - accuracy: 0.7010 - precision: 0.8228 - recall: 0.6071 - val_loss: 1.8263 - val_accuracy: 0.5499 - val_precision: 0.6894 - val_recall: 0.4882\n"
          ],
          "name": "stdout"
        },
        {
          "output_type": "display_data",
          "data": {
            "image/png": "[encoded data removed]",
            "text/plain": [
              "<Figure size 432x288 with 1 Axes>"
            ]
          },
          "metadata": {
            "tags": [],
            "needs_background": "light"
          }
        },
        {
          "output_type": "display_data",
          "data": {
            "image/png": "[encoded data removed]",
            "text/plain": [
              "<Figure size 432x288 with 1 Axes>"
            ]
          },
          "metadata": {
            "tags": [],
            "needs_background": "light"
          }
        }
      ]
    },
    {
      "cell_type": "code",
      "metadata": {
        "id": "IjXU-nlY8AhT",
        "outputId": "d02c6025-fadf-4605-99b3-a4e4ec6c5741",
        "colab": {
          "base_uri": "https://localhost:8080/",
          "height": 91
        }
      },
      "source": [
        "import keras \n",
        "\n",
        "(x_train,y_train),(x_test,y_test)=cifar100.load_data()\n",
        "y_test=to_categorical(y_test)\n",
        "\n",
        "mean = x_test.mean()\n",
        "std= x_test.std()\n",
        "x_test=(x_test-mean)/std\n",
        "\n",
        "\n",
        "best_model= keras.models.load_model('VGG16_ADAM_Dropout.h5')\n",
        "_, acc,precision,recall = best_model.evaluate(x_test, y_test)\n",
        "\n",
        "print(\"Accuracy: \"+str(acc*100)+\"%\")\n",
        "print(\"Precision: \"+str(precision*100)+\"%\")\n",
        "print(\"Recall: \"+str(recall*100)+\"%\")"
      ],
      "execution_count": 4,
      "outputs": [
        {
          "output_type": "stream",
          "text": [
            "313/313 [==============================] - 3s 8ms/step - loss: 1.7346 - accuracy: 0.5424 - precision: 0.7294 - recall: 0.4479\n",
            "Accuracy: 54.24000024795532%\n",
            "Precision: 72.9360044002533%\n",
            "Recall: 44.78999972343445%\n"
          ],
          "name": "stdout"
        }
      ]
    },
    {
      "cell_type": "code",
      "metadata": {
        "id": "1d8wTpo6B1NB"
      },
      "source": [
        ""
      ],
      "execution_count": null,
      "outputs": []
    }
  ]
}