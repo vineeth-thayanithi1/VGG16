{
  "nbformat": 4,
  "nbformat_minor": 0,
  "metadata": {
    "colab": {
      "name": "VGG16_SGD_NoRegularization.ipynb",
      "provenance": []
    },
    "kernelspec": {
      "name": "python3",
      "display_name": "Python 3"
    },
    "accelerator": "GPU"
  },
  "cells": [
    {
      "cell_type": "code",
      "metadata": {
        "id": "4DXUPvdh8JmJ",
        "outputId": "b19bcae9-dfe3-4a09-fca2-234c2dd6d7c2",
        "colab": {
          "base_uri": "https://localhost:8080/",
          "height": 1000
        }
      },
      "source": [
        "import tensorflow as tf\n",
        "from keras.datasets import cifar100\n",
        "import numpy as np\n",
        "from keras.layers import Conv2D,MaxPooling2D,Dense,Flatten, BatchNormalization,Dropout\n",
        "from keras.models import Sequential\n",
        "from keras.utils import to_categorical\n",
        "from keras.optimizers import SGD\n",
        "from keras.metrics import Precision,Recall\n",
        "from keras.callbacks import EarlyStopping, ModelCheckpoint\n",
        "from keras import regularizers\n",
        "from keras.layers import Dense, Dropout, Activation, Flatten\n",
        "from keras import optimizers\n",
        "\n",
        "(x_train,y_train),(x_test,y_test)=cifar100.load_data()\n",
        "\n",
        "\n",
        "es= EarlyStopping(monitor='val_loss', patience=4)\n",
        "mc= ModelCheckpoint(filepath='VGG16_SGD_NoRegularization.h5', monitor='val_loss', save_best_only=True)\n",
        "\n",
        "y_train=to_categorical(y_train)\n",
        "y_test=to_categorical(y_test)\n",
        "\n",
        "mean = x_train.mean()\n",
        "std= x_train.std()\n",
        "x_train=(x_train-mean)/std\n",
        "\n",
        "mean = x_test.mean()\n",
        "std= x_test.std()\n",
        "x_test=(x_test-mean)/std\n",
        "\n",
        "model = Sequential()\n",
        "x_shape=[32,32,3]\n",
        "\n",
        "model.add(Conv2D(64, (3, 3), padding='same',\n",
        "                         input_shape=x_shape))\n",
        "model.add(Activation('relu'))\n",
        "\n",
        "model.add(Conv2D(64, (3, 3), padding='same'))\n",
        "model.add(Activation('relu'))\n",
        "\n",
        "model.add(MaxPooling2D(pool_size=(2, 2)))\n",
        "\n",
        "model.add(Conv2D(128, (3, 3), padding='same'))\n",
        "model.add(Activation('relu'))\n",
        "\n",
        "model.add(Conv2D(128, (3, 3), padding='same'))\n",
        "model.add(Activation('relu'))\n",
        "\n",
        "model.add(MaxPooling2D(pool_size=(2, 2)))\n",
        "\n",
        "model.add(Conv2D(256, (3, 3), padding='same'))\n",
        "model.add(Activation('relu'))\n",
        "\n",
        "model.add(Conv2D(256, (3, 3), padding='same'))\n",
        "model.add(Activation('relu'))\n",
        "\n",
        "model.add(Conv2D(256, (3, 3), padding='same'))\n",
        "model.add(Activation('relu'))\n",
        "\n",
        "model.add(MaxPooling2D(pool_size=(2, 2)))\n",
        "\n",
        "\n",
        "model.add(Conv2D(512, (3, 3), padding='same'))\n",
        "model.add(Activation('relu'))\n",
        "\n",
        "model.add(Conv2D(512, (3, 3), padding='same'))\n",
        "model.add(Activation('relu'))\n",
        "\n",
        "\n",
        "model.add(Conv2D(512, (3, 3), padding='same'))\n",
        "model.add(Activation('relu'))\n",
        "\n",
        "model.add(MaxPooling2D(pool_size=(2, 2)))\n",
        "\n",
        "\n",
        "model.add(Conv2D(512, (3, 3), padding='same'))\n",
        "model.add(Activation('relu'))\n",
        "\n",
        "\n",
        "model.add(Conv2D(512, (3, 3), padding='same'))\n",
        "model.add(Activation('relu'))\n",
        "model.add(BatchNormalization())\n",
        "\n",
        "\n",
        "model.add(Conv2D(512, (3, 3), padding='same'))\n",
        "model.add(Activation('relu'))\n",
        "model.add(BatchNormalization())\n",
        "\n",
        "model.add(MaxPooling2D(pool_size=(2, 2)))\n",
        "\n",
        "\n",
        "model.add(Flatten())\n",
        "model.add(Dense(512))\n",
        "model.add(Activation('relu'))\n",
        "\n",
        "model.add(Dense(100))\n",
        "model.add(Activation('softmax'))\n",
        "\n",
        "opt = SGD(lr=0.001, momentum=0.9)\n",
        "model.compile(optimizer=opt,loss='categorical_crossentropy', metrics=['accuracy',Precision(),Recall()])\n",
        "history=model.fit(x=x_train,y=y_train,epochs=100, validation_data=(x_test,y_test), callbacks=[es,mc])\n",
        "\n",
        "from matplotlib import pyplot as plt\n",
        "plt.plot(history.history['accuracy'])\n",
        "plt.plot(history.history['val_accuracy'])\n",
        "plt.title('model accuracy')\n",
        "plt.ylabel('accuracy')\n",
        "plt.xlabel('epoch')\n",
        "plt.legend(['train', 'validation'], loc='upper left')\n",
        "plt.show()\n",
        "# \"Loss\"\n",
        "plt.plot(history.history['loss'])\n",
        "plt.plot(history.history['val_loss'])\n",
        "plt.title('model loss')\n",
        "plt.ylabel('loss')\n",
        "plt.xlabel('epoch')\n",
        "plt.legend(['train', 'validation'], loc='upper left')\n",
        "plt.show()"
      ],
      "execution_count": 1,
      "outputs": [
        {
          "output_type": "stream",
          "text": [
            "Downloading data from https://www.cs.toronto.edu/~kriz/cifar-100-python.tar.gz\n",
            "169009152/169001437 [==============================] - 4s 0us/step\n",
            "Epoch 1/100\n",
            "1563/1563 [==============================] - 50s 32ms/step - loss: 4.0934 - accuracy: 0.0710 - precision: 0.4325 - recall: 0.0028 - val_loss: 3.7636 - val_accuracy: 0.1161 - val_precision: 0.5776 - val_recall: 0.0160\n",
            "Epoch 2/100\n",
            "1563/1563 [==============================] - 50s 32ms/step - loss: 3.4320 - accuracy: 0.1675 - precision: 0.5728 - recall: 0.0253 - val_loss: 3.4461 - val_accuracy: 0.1702 - val_precision: 0.5117 - val_recall: 0.0461\n",
            "Epoch 3/100\n",
            "1563/1563 [==============================] - 50s 32ms/step - loss: 3.0129 - accuracy: 0.2434 - precision: 0.6349 - recall: 0.0666 - val_loss: 3.2433 - val_accuracy: 0.2238 - val_precision: 0.5953 - val_recall: 0.0793\n",
            "Epoch 4/100\n",
            "1563/1563 [==============================] - 50s 32ms/step - loss: 2.6606 - accuracy: 0.3118 - precision: 0.6822 - recall: 0.1229 - val_loss: 3.1749 - val_accuracy: 0.2412 - val_precision: 0.4673 - val_recall: 0.1323\n",
            "Epoch 5/100\n",
            "1563/1563 [==============================] - 50s 32ms/step - loss: 2.3707 - accuracy: 0.3721 - precision: 0.7024 - recall: 0.1837 - val_loss: 2.6306 - val_accuracy: 0.3251 - val_precision: 0.5944 - val_recall: 0.1823\n",
            "Epoch 6/100\n",
            "1563/1563 [==============================] - 50s 32ms/step - loss: 2.1232 - accuracy: 0.4246 - precision: 0.7264 - recall: 0.2458 - val_loss: 2.7046 - val_accuracy: 0.3269 - val_precision: 0.6114 - val_recall: 0.1855\n",
            "Epoch 7/100\n",
            "1563/1563 [==============================] - 49s 32ms/step - loss: 1.9087 - accuracy: 0.4740 - precision: 0.7471 - recall: 0.3001 - val_loss: 2.2862 - val_accuracy: 0.4045 - val_precision: 0.6506 - val_recall: 0.2601\n",
            "Epoch 8/100\n",
            "1563/1563 [==============================] - 49s 31ms/step - loss: 1.7176 - accuracy: 0.5187 - precision: 0.7612 - recall: 0.3577 - val_loss: 2.4756 - val_accuracy: 0.3861 - val_precision: 0.6023 - val_recall: 0.2732\n",
            "Epoch 9/100\n",
            "1563/1563 [==============================] - 50s 32ms/step - loss: 1.5309 - accuracy: 0.5638 - precision: 0.7796 - recall: 0.4117 - val_loss: 2.1781 - val_accuracy: 0.4404 - val_precision: 0.6626 - val_recall: 0.3273\n",
            "Epoch 10/100\n",
            "1563/1563 [==============================] - 49s 31ms/step - loss: 1.3488 - accuracy: 0.6082 - precision: 0.7982 - recall: 0.4710 - val_loss: 2.1787 - val_accuracy: 0.4551 - val_precision: 0.6397 - val_recall: 0.3660\n",
            "Epoch 11/100\n",
            "1563/1563 [==============================] - 49s 32ms/step - loss: 1.1762 - accuracy: 0.6519 - precision: 0.8133 - recall: 0.5294 - val_loss: 2.1986 - val_accuracy: 0.4581 - val_precision: 0.6252 - val_recall: 0.3735\n",
            "Epoch 12/100\n",
            "1563/1563 [==============================] - 49s 32ms/step - loss: 0.9895 - accuracy: 0.7027 - precision: 0.8317 - recall: 0.5969 - val_loss: 2.3163 - val_accuracy: 0.4560 - val_precision: 0.6080 - val_recall: 0.3772\n",
            "Epoch 13/100\n",
            "1563/1563 [==============================] - 49s 31ms/step - loss: 0.8277 - accuracy: 0.7447 - precision: 0.8519 - recall: 0.6578 - val_loss: 2.5329 - val_accuracy: 0.4421 - val_precision: 0.5725 - val_recall: 0.3800\n"
          ],
          "name": "stdout"
        },
        {
          "output_type": "display_data",
          "data": {
            "image/png": "[encoded data removed]",
            "text/plain": [
              "<Figure size 432x288 with 1 Axes>"
            ]
          },
          "metadata": {
            "tags": [],
            "needs_background": "light"
          }
        },
        {
          "output_type": "display_data",
          "data": {
            "image/png": "[encoded data removed]",
            "text/plain": [
              "<Figure size 432x288 with 1 Axes>"
            ]
          },
          "metadata": {
            "tags": [],
            "needs_background": "light"
          }
        }
      ]
    },
    {
      "cell_type": "code",
      "metadata": {
        "id": "gniVjhuD5IHj",
        "outputId": "17f5eaef-c893-4dce-b27f-112953217e51",
        "colab": {
          "base_uri": "https://localhost:8080/",
          "height": 90
        }
      },
      "source": [
        "import keras \n",
        "\n",
        "(x_train,y_train),(x_test,y_test)=cifar100.load_data()\n",
        "y_test=to_categorical(y_test)\n",
        "\n",
        "mean = x_test.mean()\n",
        "std= x_test.std()\n",
        "x_test=(x_test-mean)/std\n",
        "\n",
        "\n",
        "best_model= keras.models.load_model('VGG16_SGD_NoRegularization.h5')\n",
        "_, acc,precision,recall = best_model.evaluate(x_test, y_test)\n",
        "\n",
        "print(\"Accuracy: \"+str(acc*100)+\"%\")\n",
        "print(\"Precision: \"+str(precision*100)+\"%\")\n",
        "print(\"Recall: \"+str(recall*100)+\"%\")"
      ],
      "execution_count": 9,
      "outputs": [
        {
          "output_type": "stream",
          "text": [
            "313/313 [==============================] - 3s 9ms/step - loss: 2.1781 - accuracy: 0.4404 - precision: 0.6626 - recall: 0.3273\n",
            "Accuracy: 44.040000438690186%\n",
            "Precision: 66.25506281852722%\n",
            "Recall: 32.73000121116638%\n"
          ],
          "name": "stdout"
        }
      ]
    },
    {
      "cell_type": "code",
      "metadata": {
        "id": "QwRfvg8E9hre"
      },
      "source": [
        ""
      ],
      "execution_count": null,
      "outputs": []
    }
  ]
}