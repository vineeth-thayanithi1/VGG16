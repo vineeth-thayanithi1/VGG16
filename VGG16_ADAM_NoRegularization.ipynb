{
  "nbformat": 4,
  "nbformat_minor": 0,
  "metadata": {
    "colab": {
      "name": "VGG16_ADAM_NoRegularization.ipynb",
      "provenance": []
    },
    "kernelspec": {
      "name": "python3",
      "display_name": "Python 3"
    },
    "accelerator": "GPU"
  },
  "cells": [
    {
      "cell_type": "code",
      "metadata": {
        "id": "7-XikB8rpuxp",
        "outputId": "cc4033e6-3a24-4935-e22b-1660b8e18c72",
        "colab": {
          "base_uri": "https://localhost:8080/",
          "height": 1000
        }
      },
      "source": [
        "import tensorflow as tf\n",
        "from keras.datasets import cifar100\n",
        "import numpy as np\n",
        "from keras.layers import Conv2D,MaxPooling2D,Dense,Flatten, BatchNormalization,Dropout\n",
        "from keras.models import Sequential\n",
        "from keras.utils import to_categorical\n",
        "from keras.optimizers import SGD\n",
        "from keras.metrics import Precision,Recall\n",
        "from keras.callbacks import EarlyStopping, ModelCheckpoint\n",
        "from keras import regularizers\n",
        "from keras.layers import Dense, Dropout, Activation, Flatten\n",
        "from keras import optimizers\n",
        "\n",
        "(x_train,y_train),(x_test,y_test)=cifar100.load_data()\n",
        "\n",
        "\n",
        "es= EarlyStopping(monitor='val_loss', patience=4)\n",
        "mc= ModelCheckpoint(filepath='VGG16_ADAM_NoRegularization.h5', monitor='val_loss', save_best_only=True)\n",
        "\n",
        "y_train=to_categorical(y_train)\n",
        "y_test=to_categorical(y_test)\n",
        "\n",
        "mean = x_train.mean()\n",
        "std= x_train.std()\n",
        "x_train=(x_train-mean)/std\n",
        "\n",
        "mean = x_test.mean()\n",
        "std= x_test.std()\n",
        "x_test=(x_test-mean)/std\n",
        "\n",
        "model = Sequential()\n",
        "x_shape=[32,32,3]\n",
        "\n",
        "model.add(Conv2D(64, (3, 3), padding='same',\n",
        "                         input_shape=x_shape))\n",
        "model.add(Activation('relu'))\n",
        "\n",
        "model.add(Conv2D(64, (3, 3), padding='same'))\n",
        "model.add(Activation('relu'))\n",
        "\n",
        "model.add(MaxPooling2D(pool_size=(2, 2)))\n",
        "\n",
        "model.add(Conv2D(128, (3, 3), padding='same'))\n",
        "model.add(Activation('relu'))\n",
        "\n",
        "model.add(Conv2D(128, (3, 3), padding='same'))\n",
        "model.add(Activation('relu'))\n",
        "\n",
        "model.add(MaxPooling2D(pool_size=(2, 2)))\n",
        "\n",
        "model.add(Conv2D(256, (3, 3), padding='same'))\n",
        "model.add(Activation('relu'))\n",
        "\n",
        "model.add(Conv2D(256, (3, 3), padding='same'))\n",
        "model.add(Activation('relu'))\n",
        "\n",
        "model.add(Conv2D(256, (3, 3), padding='same'))\n",
        "model.add(Activation('relu'))\n",
        "\n",
        "model.add(MaxPooling2D(pool_size=(2, 2)))\n",
        "\n",
        "\n",
        "model.add(Conv2D(512, (3, 3), padding='same'))\n",
        "model.add(Activation('relu'))\n",
        "\n",
        "model.add(Conv2D(512, (3, 3), padding='same'))\n",
        "model.add(Activation('relu'))\n",
        "\n",
        "\n",
        "model.add(Conv2D(512, (3, 3), padding='same'))\n",
        "model.add(Activation('relu'))\n",
        "\n",
        "model.add(MaxPooling2D(pool_size=(2, 2)))\n",
        "\n",
        "\n",
        "model.add(Conv2D(512, (3, 3), padding='same'))\n",
        "model.add(Activation('relu'))\n",
        "\n",
        "\n",
        "model.add(Conv2D(512, (3, 3), padding='same'))\n",
        "model.add(Activation('relu'))\n",
        "model.add(BatchNormalization())\n",
        "\n",
        "\n",
        "model.add(Conv2D(512, (3, 3), padding='same'))\n",
        "model.add(Activation('relu'))\n",
        "model.add(BatchNormalization())\n",
        "\n",
        "model.add(MaxPooling2D(pool_size=(2, 2)))\n",
        "\n",
        "\n",
        "model.add(Flatten())\n",
        "model.add(Dense(512))\n",
        "model.add(Activation('relu'))\n",
        "\n",
        "model.add(Dense(100))\n",
        "model.add(Activation('softmax'))\n",
        "\n",
        "model.compile(optimizer='adam',loss='categorical_crossentropy', metrics=['accuracy',Precision(),Recall()])\n",
        "history=model.fit(x=x_train,y=y_train,epochs=100, validation_data=(x_test,y_test), callbacks=[es,mc])\n",
        "\n",
        "from matplotlib import pyplot as plt\n",
        "plt.plot(history.history['accuracy'])\n",
        "plt.plot(history.history['val_accuracy'])\n",
        "plt.title('model accuracy')\n",
        "plt.ylabel('accuracy')\n",
        "plt.xlabel('epoch')\n",
        "plt.legend(['train', 'validation'], loc='upper left')\n",
        "plt.show()\n",
        "# \"Loss\"\n",
        "plt.plot(history.history['loss'])\n",
        "plt.plot(history.history['val_loss'])\n",
        "plt.title('model loss')\n",
        "plt.ylabel('loss')\n",
        "plt.xlabel('epoch')\n",
        "plt.legend(['train', 'validation'], loc='upper left')\n",
        "plt.show()"
      ],
      "execution_count": 1,
      "outputs": [
        {
          "output_type": "stream",
          "text": [
            "Downloading data from https://www.cs.toronto.edu/~kriz/cifar-100-python.tar.gz\n",
            "169009152/169001437 [==============================] - 4s 0us/step\n",
            "Epoch 1/100\n",
            "1563/1563 [==============================] - 50s 32ms/step - loss: 4.3012 - accuracy: 0.0308 - precision: 0.0000e+00 - recall: 0.0000e+00 - val_loss: 5.0395 - val_accuracy: 0.0354 - val_precision: 0.3333 - val_recall: 1.0000e-04\n",
            "Epoch 2/100\n",
            "1563/1563 [==============================] - 50s 32ms/step - loss: 4.1408 - accuracy: 0.0400 - precision: 0.0000e+00 - recall: 0.0000e+00 - val_loss: 4.8605 - val_accuracy: 0.0265 - val_precision: 0.3750 - val_recall: 3.0000e-04\n",
            "Epoch 3/100\n",
            "1563/1563 [==============================] - 51s 32ms/step - loss: 3.9969 - accuracy: 0.0546 - precision: 0.2222 - recall: 4.0000e-05 - val_loss: 3.9113 - val_accuracy: 0.0585 - val_precision: 0.0000e+00 - val_recall: 0.0000e+00\n",
            "Epoch 4/100\n",
            "1563/1563 [==============================] - 50s 32ms/step - loss: 3.8786 - accuracy: 0.0665 - precision: 0.5455 - recall: 2.4000e-04 - val_loss: 3.7809 - val_accuracy: 0.0791 - val_precision: 0.5000 - val_recall: 2.0000e-04\n",
            "Epoch 5/100\n",
            "1563/1563 [==============================] - 50s 32ms/step - loss: 3.7819 - accuracy: 0.0760 - precision: 0.4757 - recall: 9.8000e-04 - val_loss: 11863.7344 - val_accuracy: 0.0721 - val_precision: 0.0000e+00 - val_recall: 0.0000e+00\n",
            "Epoch 6/100\n",
            "1563/1563 [==============================] - 50s 32ms/step - loss: 3.6863 - accuracy: 0.0834 - precision: 0.4510 - recall: 0.0018 - val_loss: 3.6504 - val_accuracy: 0.0898 - val_precision: 0.3810 - val_recall: 0.0032\n",
            "Epoch 7/100\n",
            "1563/1563 [==============================] - 50s 32ms/step - loss: 3.5958 - accuracy: 0.0926 - precision: 0.4831 - recall: 0.0034 - val_loss: 3.9374 - val_accuracy: 0.0702 - val_precision: 0.6739 - val_recall: 0.0031\n",
            "Epoch 8/100\n",
            "1563/1563 [==============================] - 50s 32ms/step - loss: 3.5056 - accuracy: 0.1019 - precision: 0.5445 - recall: 0.0050 - val_loss: 3.5149 - val_accuracy: 0.1067 - val_precision: 0.7164 - val_recall: 0.0048\n",
            "Epoch 9/100\n",
            "1563/1563 [==============================] - 50s 32ms/step - loss: 3.4092 - accuracy: 0.1136 - precision: 0.6000 - recall: 0.0068 - val_loss: 110.5094 - val_accuracy: 0.1049 - val_precision: 0.7727 - val_recall: 0.0017\n",
            "Epoch 10/100\n",
            "1563/1563 [==============================] - 50s 32ms/step - loss: 3.3398 - accuracy: 0.1233 - precision: 0.5788 - recall: 0.0079 - val_loss: 3.5095 - val_accuracy: 0.1060 - val_precision: 0.5736 - val_recall: 0.0074\n",
            "Epoch 11/100\n",
            "1563/1563 [==============================] - 50s 32ms/step - loss: 3.1909 - accuracy: 0.1455 - precision: 0.6246 - recall: 0.0155 - val_loss: 3.3158 - val_accuracy: 0.1465 - val_precision: 0.7165 - val_recall: 0.0187\n",
            "Epoch 12/100\n",
            "1563/1563 [==============================] - 50s 32ms/step - loss: 3.0271 - accuracy: 0.1799 - precision: 0.6779 - recall: 0.0303 - val_loss: 67.8087 - val_accuracy: 0.1734 - val_precision: 0.6571 - val_recall: 0.0458\n",
            "Epoch 13/100\n",
            "1563/1563 [==============================] - 50s 32ms/step - loss: 2.8650 - accuracy: 0.2089 - precision: 0.6784 - recall: 0.0458 - val_loss: 3.0547 - val_accuracy: 0.1974 - val_precision: 0.6671 - val_recall: 0.0529\n",
            "Epoch 14/100\n",
            "1563/1563 [==============================] - 50s 32ms/step - loss: 2.6953 - accuracy: 0.2409 - precision: 0.6967 - recall: 0.0648 - val_loss: 3.0717 - val_accuracy: 0.2093 - val_precision: 0.6917 - val_recall: 0.0662\n",
            "Epoch 15/100\n",
            "1563/1563 [==============================] - 50s 32ms/step - loss: 2.5303 - accuracy: 0.2790 - precision: 0.7045 - recall: 0.0925 - val_loss: 3.0147 - val_accuracy: 0.2323 - val_precision: 0.6415 - val_recall: 0.0927\n",
            "Epoch 16/100\n",
            "1563/1563 [==============================] - 50s 32ms/step - loss: 2.3661 - accuracy: 0.3129 - precision: 0.7151 - recall: 0.1257 - val_loss: 2.9842 - val_accuracy: 0.2470 - val_precision: 0.6488 - val_recall: 0.0994\n",
            "Epoch 17/100\n",
            "1563/1563 [==============================] - 50s 32ms/step - loss: 2.2165 - accuracy: 0.3478 - precision: 0.7268 - recall: 0.1579 - val_loss: 2.9955 - val_accuracy: 0.2624 - val_precision: 0.6335 - val_recall: 0.1267\n",
            "Epoch 18/100\n",
            "1563/1563 [==============================] - 50s 32ms/step - loss: 2.0580 - accuracy: 0.3835 - precision: 0.7396 - recall: 0.1959 - val_loss: 1043.9500 - val_accuracy: 0.2688 - val_precision: 0.6124 - val_recall: 0.1403\n",
            "Epoch 19/100\n",
            "1563/1563 [==============================] - 50s 32ms/step - loss: 1.9009 - accuracy: 0.4207 - precision: 0.7396 - recall: 0.2326 - val_loss: 287.2401 - val_accuracy: 0.2739 - val_precision: 0.5969 - val_recall: 0.1562\n",
            "Epoch 20/100\n",
            "1563/1563 [==============================] - 50s 32ms/step - loss: 1.7599 - accuracy: 0.4568 - precision: 0.7498 - recall: 0.2710 - val_loss: 3.2785 - val_accuracy: 0.2805 - val_precision: 0.5636 - val_recall: 0.1768\n"
          ],
          "name": "stdout"
        },
        {
          "output_type": "display_data",
          "data": {
            "image/png": "[encoded data removed]",
            "text/plain": [
              "<Figure size 432x288 with 1 Axes>"
            ]
          },
          "metadata": {
            "tags": [],
            "needs_background": "light"
          }
        },
        {
          "output_type": "display_data",
          "data": {
            "image/png": "[encoded data removed]",
            "text/plain": [
              "<Figure size 432x288 with 1 Axes>"
            ]
          },
          "metadata": {
            "tags": [],
            "needs_background": "light"
          }
        }
      ]
    },
    {
      "cell_type": "code",
      "metadata": {
        "id": "lpAVjdiqp8Gu",
        "outputId": "fcf953a6-14d5-4d90-cfaa-cf8e6e1946a8",
        "colab": {
          "base_uri": "https://localhost:8080/",
          "height": 85
        }
      },
      "source": [
        "import keras \n",
        "\n",
        "(x_train,y_train),(x_test,y_test)=cifar100.load_data()\n",
        "y_test=to_categorical(y_test)\n",
        "\n",
        "mean = x_test.mean()\n",
        "std= x_test.std()\n",
        "x_test=(x_test-mean)/std\n",
        "\n",
        "\n",
        "best_model= keras.models.load_model('VGG16_ADAM_NoRegularization.h5')\n",
        "_, acc,precision,recall = best_model.evaluate(x_test, y_test)\n",
        "\n",
        "print(\"Accuracy: \"+str(acc*100)+\"%\")\n",
        "print(\"Precision: \"+str(precision*100)+\"%\")\n",
        "print(\"Recall: \"+str(recall*100)+\"%\")"
      ],
      "execution_count": 2,
      "outputs": [
        {
          "output_type": "stream",
          "text": [
            "313/313 [==============================] - 3s 10ms/step - loss: 2.9842 - accuracy: 0.2470 - precision: 0.6488 - recall: 0.0994\n",
            "Accuracy: 24.699999392032623%\n",
            "Precision: 64.88250494003296%\n",
            "Recall: 9.939999878406525%\n"
          ],
          "name": "stdout"
        }
      ]
    },
    {
      "cell_type": "code",
      "metadata": {
        "id": "k1Yuca2uuQVt"
      },
      "source": [
        ""
      ],
      "execution_count": null,
      "outputs": []
    }
  ]
}