{
  "nbformat": 4,
  "nbformat_minor": 0,
  "metadata": {
    "colab": {
      "name": "VGG16_SGD_BatchNorm.ipynb",
      "provenance": []
    },
    "kernelspec": {
      "name": "python3",
      "display_name": "Python 3"
    },
    "accelerator": "GPU"
  },
  "cells": [
    {
      "cell_type": "code",
      "metadata": {
        "id": "PtV-QPR565rQ",
        "outputId": "6289bd81-2135-4b9f-d5ce-4b46d2702cdd",
        "colab": {
          "base_uri": "https://localhost:8080/",
          "height": 1000
        }
      },
      "source": [
        "import tensorflow as tf\n",
        "from keras.datasets import cifar100\n",
        "import numpy as np\n",
        "from keras.layers import Conv2D,MaxPooling2D,Dense,Flatten, BatchNormalization,Dropout\n",
        "from keras.models import Sequential\n",
        "from keras.utils import to_categorical\n",
        "from keras.optimizers import SGD\n",
        "from keras.metrics import Precision,Recall\n",
        "from keras.callbacks import EarlyStopping, ModelCheckpoint\n",
        "from keras import regularizers\n",
        "from keras.layers import Dense, Dropout, Activation, Flatten\n",
        "from keras import optimizers\n",
        "\n",
        "(x_train,y_train),(x_test,y_test)=cifar100.load_data()\n",
        "\n",
        "\n",
        "es= EarlyStopping(monitor='val_loss', patience=4)\n",
        "mc= ModelCheckpoint(filepath='VGG16_SGD_BatchNorm.h5', monitor='val_loss', save_best_only=True)\n",
        "\n",
        "y_train=to_categorical(y_train)\n",
        "y_test=to_categorical(y_test)\n",
        "\n",
        "mean = x_train.mean()\n",
        "std= x_train.std()\n",
        "x_train=(x_train-mean)/std\n",
        "\n",
        "mean = x_test.mean()\n",
        "std= x_test.std()\n",
        "x_test=(x_test-mean)/std\n",
        "\n",
        "model = Sequential()\n",
        "x_shape=[32,32,3]\n",
        "\n",
        "model.add(Conv2D(64, (3, 3), padding='same',input_shape=x_shape))\n",
        "model.add(Activation('relu'))\n",
        "model.add(BatchNormalization())\n",
        "\n",
        "model.add(Conv2D(64, (3, 3), padding='same'))\n",
        "model.add(Activation('relu'))\n",
        "model.add(BatchNormalization())\n",
        "\n",
        "model.add(MaxPooling2D(pool_size=(2, 2)))\n",
        "\n",
        "model.add(Conv2D(128, (3, 3), padding='same'))\n",
        "model.add(Activation('relu'))\n",
        "model.add(BatchNormalization())\n",
        "\n",
        "model.add(Conv2D(128, (3, 3), padding='same'))\n",
        "model.add(Activation('relu'))\n",
        "model.add(BatchNormalization())\n",
        "\n",
        "model.add(MaxPooling2D(pool_size=(2, 2)))\n",
        "\n",
        "model.add(Conv2D(256, (3, 3), padding='same'))\n",
        "model.add(Activation('relu'))\n",
        "model.add(BatchNormalization())\n",
        "\n",
        "model.add(Conv2D(256, (3, 3), padding='same'))\n",
        "model.add(Activation('relu'))\n",
        "model.add(BatchNormalization())\n",
        "\n",
        "model.add(Conv2D(256, (3, 3), padding='same'))\n",
        "model.add(Activation('relu'))\n",
        "model.add(BatchNormalization())\n",
        "\n",
        "model.add(MaxPooling2D(pool_size=(2, 2)))\n",
        "\n",
        "\n",
        "model.add(Conv2D(512, (3, 3), padding='same'))\n",
        "model.add(Activation('relu'))\n",
        "model.add(BatchNormalization())\n",
        "\n",
        "model.add(Conv2D(512, (3, 3), padding='same'))\n",
        "model.add(Activation('relu'))\n",
        "model.add(BatchNormalization())\n",
        "\n",
        "\n",
        "model.add(Conv2D(512, (3, 3), padding='same'))\n",
        "model.add(Activation('relu'))\n",
        "model.add(BatchNormalization())\n",
        "\n",
        "model.add(MaxPooling2D(pool_size=(2, 2)))\n",
        "\n",
        "\n",
        "model.add(Conv2D(512, (3, 3), padding='same'))\n",
        "model.add(Activation('relu'))\n",
        "model.add(BatchNormalization())\n",
        "\n",
        "\n",
        "model.add(Conv2D(512, (3, 3), padding='same'))\n",
        "model.add(Activation('relu'))\n",
        "model.add(BatchNormalization())\n",
        "\n",
        "\n",
        "model.add(Conv2D(512, (3, 3), padding='same'))\n",
        "model.add(Activation('relu'))\n",
        "model.add(BatchNormalization())\n",
        "\n",
        "model.add(MaxPooling2D(pool_size=(2, 2)))\n",
        "\n",
        "\n",
        "model.add(Flatten())\n",
        "model.add(Dense(512))\n",
        "model.add(Activation('relu'))\n",
        "model.add(BatchNormalization())\n",
        "\n",
        "model.add(Dense(100))\n",
        "model.add(Activation('softmax'))\n",
        "\n",
        "opt = SGD(lr=0.001, momentum=0.9)\n",
        "model.compile(optimizer=opt,loss='categorical_crossentropy', metrics=['accuracy',Precision(),Recall()])\n",
        "history=model.fit(x=x_train,y=y_train,epochs=100, validation_data=(x_test,y_test), callbacks=[es,mc])\n",
        "\n",
        "from matplotlib import pyplot as plt\n",
        "plt.plot(history.history['accuracy'])\n",
        "plt.plot(history.history['val_accuracy'])\n",
        "plt.title('model accuracy')\n",
        "plt.ylabel('accuracy')\n",
        "plt.xlabel('epoch')\n",
        "plt.legend(['train', 'validation'], loc='upper left')\n",
        "plt.show()\n",
        "# \"Loss\"\n",
        "plt.plot(history.history['loss'])\n",
        "plt.plot(history.history['val_loss'])\n",
        "plt.title('model loss')\n",
        "plt.ylabel('loss')\n",
        "plt.xlabel('epoch')\n",
        "plt.legend(['train', 'validation'], loc='upper left')\n",
        "plt.show()"
      ],
      "execution_count": 1,
      "outputs": [
        {
          "output_type": "stream",
          "text": [
            "Downloading data from https://www.cs.toronto.edu/~kriz/cifar-100-python.tar.gz\n",
            "169009152/169001437 [==============================] - 4s 0us/step\n",
            "Epoch 1/100\n",
            "1563/1563 [==============================] - 53s 34ms/step - loss: 3.9116 - accuracy: 0.1125 - precision: 0.4966 - recall: 0.0118 - val_loss: 3.4824 - val_accuracy: 0.1694 - val_precision: 0.5386 - val_recall: 0.0230\n",
            "Epoch 2/100\n",
            "1563/1563 [==============================] - 52s 33ms/step - loss: 3.1774 - accuracy: 0.2246 - precision: 0.6015 - recall: 0.0578 - val_loss: 2.9068 - val_accuracy: 0.2777 - val_precision: 0.6387 - val_recall: 0.1027\n",
            "Epoch 3/100\n",
            "1563/1563 [==============================] - 52s 33ms/step - loss: 2.6714 - accuracy: 0.3208 - precision: 0.6657 - recall: 0.1324 - val_loss: 2.5899 - val_accuracy: 0.3430 - val_precision: 0.6862 - val_recall: 0.1677\n",
            "Epoch 4/100\n",
            "1563/1563 [==============================] - 52s 33ms/step - loss: 2.2349 - accuracy: 0.4107 - precision: 0.7183 - recall: 0.2236 - val_loss: 2.2989 - val_accuracy: 0.3992 - val_precision: 0.6895 - val_recall: 0.2483\n",
            "Epoch 5/100\n",
            "1563/1563 [==============================] - 52s 33ms/step - loss: 1.8648 - accuracy: 0.4900 - precision: 0.7560 - recall: 0.3141 - val_loss: 2.2128 - val_accuracy: 0.4327 - val_precision: 0.6669 - val_recall: 0.2953\n",
            "Epoch 6/100\n",
            "1563/1563 [==============================] - 52s 33ms/step - loss: 1.5436 - accuracy: 0.5693 - precision: 0.7852 - recall: 0.4076 - val_loss: 2.2662 - val_accuracy: 0.4395 - val_precision: 0.6442 - val_recall: 0.3377\n",
            "Epoch 7/100\n",
            "1563/1563 [==============================] - 52s 33ms/step - loss: 1.2240 - accuracy: 0.6495 - precision: 0.8198 - recall: 0.5070 - val_loss: 2.1491 - val_accuracy: 0.4595 - val_precision: 0.6452 - val_recall: 0.3626\n",
            "Epoch 8/100\n",
            "1563/1563 [==============================] - 52s 33ms/step - loss: 0.9184 - accuracy: 0.7297 - precision: 0.8549 - recall: 0.6133 - val_loss: 2.4058 - val_accuracy: 0.4403 - val_precision: 0.5897 - val_recall: 0.3624\n",
            "Epoch 9/100\n",
            "1563/1563 [==============================] - 52s 33ms/step - loss: 0.6460 - accuracy: 0.8078 - precision: 0.8929 - recall: 0.7209 - val_loss: 2.3857 - val_accuracy: 0.4632 - val_precision: 0.5952 - val_recall: 0.3996\n",
            "Epoch 10/100\n",
            "1563/1563 [==============================] - 52s 33ms/step - loss: 0.3840 - accuracy: 0.8879 - precision: 0.9344 - recall: 0.8344 - val_loss: 2.4273 - val_accuracy: 0.4751 - val_precision: 0.5927 - val_recall: 0.4164\n",
            "Epoch 11/100\n",
            "1563/1563 [==============================] - 52s 33ms/step - loss: 0.2138 - accuracy: 0.9404 - precision: 0.9616 - recall: 0.9129 - val_loss: 2.4801 - val_accuracy: 0.4821 - val_precision: 0.5902 - val_recall: 0.4357\n"
          ],
          "name": "stdout"
        },
        {
          "output_type": "display_data",
          "data": {
            "image/png": "[encoded data removed]",
            "text/plain": [
              "<Figure size 432x288 with 1 Axes>"
            ]
          },
          "metadata": {
            "tags": [],
            "needs_background": "light"
          }
        },
        {
          "output_type": "display_data",
          "data": {
            "image/png": "[encoded data removed]",
            "text/plain": [
              "<Figure size 432x288 with 1 Axes>"
            ]
          },
          "metadata": {
            "tags": [],
            "needs_background": "light"
          }
        }
      ]
    },
    {
      "cell_type": "code",
      "metadata": {
        "id": "IjXU-nlY8AhT",
        "outputId": "967f8fea-0b1e-4df4-acb8-873669e0fd81",
        "colab": {
          "base_uri": "https://localhost:8080/",
          "height": 91
        }
      },
      "source": [
        "import keras \n",
        "\n",
        "(x_train,y_train),(x_test,y_test)=cifar100.load_data()\n",
        "y_test=to_categorical(y_test)\n",
        "\n",
        "mean = x_test.mean()\n",
        "std= x_test.std()\n",
        "x_test=(x_test-mean)/std\n",
        "\n",
        "\n",
        "best_model= keras.models.load_model('VGG16_SGD_BatchNorm.h5')\n",
        "_, acc,precision,recall = best_model.evaluate(x_test, y_test)\n",
        "\n",
        "print(\"Accuracy: \"+str(acc*100)+\"%\")\n",
        "print(\"Precision: \"+str(precision*100)+\"%\")\n",
        "print(\"Recall: \"+str(recall*100)+\"%\")"
      ],
      "execution_count": 2,
      "outputs": [
        {
          "output_type": "stream",
          "text": [
            "313/313 [==============================] - 3s 10ms/step - loss: 2.1491 - accuracy: 0.4595 - precision: 0.6452 - recall: 0.3626\n",
            "Accuracy: 45.95000147819519%\n",
            "Precision: 64.5195722579956%\n",
            "Recall: 36.25999987125397%\n"
          ],
          "name": "stdout"
        }
      ]
    },
    {
      "cell_type": "code",
      "metadata": {
        "id": "iRzUFeu1CBAp"
      },
      "source": [
        ""
      ],
      "execution_count": null,
      "outputs": []
    }
  ]
}